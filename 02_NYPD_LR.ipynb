{
 "cells": [
  {
   "cell_type": "code",
   "execution_count": 1,
   "metadata": {},
   "outputs": [
    {
     "name": "stderr",
     "output_type": "stream",
     "text": [
      "/home/jeesuk/anaconda3/lib/python3.6/site-packages/sklearn/ensemble/weight_boosting.py:29: DeprecationWarning: numpy.core.umath_tests is an internal NumPy module and should not be imported. It will be removed in a future NumPy release.\n",
      "  from numpy.core.umath_tests import inner1d\n"
     ]
    }
   ],
   "source": [
    "import pandas as pd\n",
    "\n",
    "from sklearn.linear_model import LogisticRegression\n",
    "from sklearn.feature_selection import RFECV\n",
    "from sklearn.model_selection import cross_val_score\n",
    "from sklearn.ensemble import RandomForestClassifier\n",
    "from sklearn import metrics\n",
    "\n",
    "import pickle\n",
    "import warnings\n",
    "warnings.filterwarnings('ignore')\n",
    "\n",
    "pd.set_option('display.max_rows', 5000)\n",
    "pd.set_option('display.max_columns', 200)"
   ]
  },
  {
   "cell_type": "code",
   "execution_count": 2,
   "metadata": {},
   "outputs": [],
   "source": [
    "with open('../data/NYPD_EDA.pkl', 'rb') as f:\n",
    "    data = pickle.load(f)"
   ]
  },
  {
   "cell_type": "markdown",
   "metadata": {},
   "source": [
    "# TRAIN AND HOLDOUT DATAFRAMES"
   ]
  },
  {
   "cell_type": "code",
   "execution_count": 3,
   "metadata": {},
   "outputs": [],
   "source": [
    "cutoff = round(len(data)*9/10, 0)\n",
    "\n",
    "train = data.loc[:cutoff]\n",
    "holdout = data.loc[cutoff:]\n",
    "\n",
    "# Storing target variable from holdout dataframe so we can compare it\n",
    "actuals = holdout.SUSPECT_ARRESTED_FLAG\n",
    "\n",
    "# Drop SUSPECT_ARRESTED_FLAG column from holdout dataframe so that we can predict its values.\n",
    "holdout.drop(['SUSPECT_ARRESTED_FLAG'], axis = 1, inplace = True)"
   ]
  },
  {
   "cell_type": "markdown",
   "metadata": {},
   "source": [
    "# FEATURE SELECTION"
   ]
  },
  {
   "cell_type": "code",
   "execution_count": 4,
   "metadata": {},
   "outputs": [],
   "source": [
    "columns = ['OFFICER_EXPLAINED_STOP_FLAG', 'OFFICER_IN_UNIFORM_FLAG', 'ID_CARD_IDENTIFIES_OFFICER_FLAG',\n",
    " 'SHIELD_IDENTIFIES_OFFICER_FLAG', 'VERBAL_IDENTIFIES_OFFICER_FLAG', 'FRISKED_FLAG', 'SEARCHED_FLAG', 'OTHER_CONTRABAND_FLAG',\n",
    " 'BACKGROUND_VIOLENT_CRIME', 'BACKGROUND_SUSPECT_KNOWN_CARRY_WPN', 'SUSPECTS_ACTIONS_CASING_FLAG',\n",
    " 'SUSPECTS_ACTIONS_CONCEALED_POSSESSION_WEAPON_FLAG','SUSPECTS_ACTIONS_DRUG_TRANSACTIONS_FLAG',\n",
    " 'SUSPECTS_ACTIONS_IDENTIFY_CRIME_PATTERN_FLAG', 'SUSPECTS_ACTIONS_LOOKOUT_FLAG','SUSPECTS_ACTIONS_PROXIMITY_TO_SCENE_FLAG',\n",
    " 'SEARCH_BASIS_ADMISSION_FLAG','SEARCH_BASIS_HARD_OBJECT_FLAG', 'SEARCH_BASIS_INCIDENTAL_TO_ARREST_FLAG',\n",
    " 'SEARCH_BASIS_OTHER_FLAG', 'SEARCH_BASIS_OUTLINE_FLAG', 'weapon', 'endangerment', 'physical_harm', 'theft', 'property_damage',\n",
    " 'trespass', 'auto', 'sexual_assault', 'drugs', 'robbery', 'other', 'prostitution', 'weapon_found', 'aggressive_force',\n",
    "'demeanor_nervous', 'demeanor_antagonistic', 'demeanor_surprised','demeanor_other', 'demeanor_tired', 'demeanor_upset',\n",
    "'demeanor_inebriated', 'demeanor_unstable', 'demeanor_fled',\n",
    "'appearance_bag','appearance_facial_hair', 'appearance_scars', 'appearance_braids', 'appearance_hoodie', 'appearance_hat',\n",
    "           'appearance_du_rag', \n",
    "           'appearance_tattoo', \n",
    "           'appearance_mask', 'appearance_piercing', \n",
    "           'appearance_unusual',\n",
    " 'appearance_menacing', 'appearance_bandana', 'appearance_wounds',\n",
    "\n",
    "'STOP_WAS_INITIATED_Based on C/W on Scene',\n",
    "'ISSUING_OFFICER_RANK_CPT', 'ISSUING_OFFICER_RANK_DI', 'ISSUING_OFFICER_RANK_DT1', 'ISSUING_OFFICER_RANK_DT2',\n",
    " 'ISSUING_OFFICER_RANK_DT3', 'ISSUING_OFFICER_RANK_DTS', 'ISSUING_OFFICER_RANK_INS', 'ISSUING_OFFICER_RANK_LSA',\n",
    " 'ISSUING_OFFICER_RANK_LT', 'ISSUING_OFFICER_RANK_POF', 'ISSUING_OFFICER_RANK_POM', 'ISSUING_OFFICER_RANK_SDS',\n",
    " 'ISSUING_OFFICER_RANK_SGT', 'ISSUING_OFFICER_RANK_SSA', 'SUPERVISING_OFFICER_RANK_CPT', 'SUPERVISING_OFFICER_RANK_DI',\n",
    " 'SUPERVISING_OFFICER_RANK_LCD', 'SUPERVISING_OFFICER_RANK_LSA', 'SUPERVISING_OFFICER_RANK_LT', 'SUPERVISING_OFFICER_RANK_POF',\n",
    " 'SUPERVISING_OFFICER_RANK_POM', 'SUPERVISING_OFFICER_RANK_SDS', 'SUPERVISING_OFFICER_RANK_SGT',\n",
    " 'SUPERVISING_OFFICER_RANK_SSA', 'JURISDICTION_CODE_(null)', 'JURISDICTION_CODE_A', 'JURISDICTION_CODE_H',\n",
    " 'JURISDICTION_CODE_P', 'JURISDICTION_CODE_T','stop_duration_group_Brief', 'stop_duration_group_Short',\n",
    " 'stop_duration_group_Medium', 'stop_duration_group_Long', 'SUSPECT_BODY_BUILD_TYPE_HEA', 'SUSPECT_BODY_BUILD_TYPE_MED',\n",
    " 'SUSPECT_BODY_BUILD_TYPE_MUSC', 'SUSPECT_BODY_BUILD_TYPE_THN', 'SUSPECT_BODY_BUILD_TYPE_unknown', 'SUSPECT_SEX_MALE',\n",
    " 'SUSPECT_RACE_DESCRIPTION_AMERICAN INDIAN/ALASKAN NATIVE', 'SUSPECT_RACE_DESCRIPTION_ASIAN / PACIFIC ISLANDER',\n",
    " 'SUSPECT_RACE_DESCRIPTION_BLACK', 'SUSPECT_RACE_DESCRIPTION_BLACK HISPANIC', 'SUSPECT_RACE_DESCRIPTION_WHITE',\n",
    " 'SUSPECT_RACE_DESCRIPTION_WHITE HISPANIC', 'suspect_height_group_very_short', 'suspect_height_group_short',\n",
    " 'suspect_height_group_average', 'suspect_height_group_tall', 'suspect_weight_group_very_light', 'suspect_weight_group_light',\n",
    " 'suspect_weight_group_average', 'suspect_weight_group_heavy', 'suspect_weight_group_very_heavy', 'suspect_age_group_child',\n",
    " 'suspect_age_group_teen', 'suspect_age_group_young_adult', 'suspect_age_group_adult', 'suspect_age_group_middle_aged',\n",
    " 'suspect_age_group_older', 'suspect_age_group_senior',\n",
    " \n",
    " 'STOP_LOCATION_PATROL_BORO_NAME_PBBN',\n",
    " 'STOP_LOCATION_PATROL_BORO_NAME_PBBS',\n",
    " 'STOP_LOCATION_PATROL_BORO_NAME_PBBX',\n",
    " 'STOP_LOCATION_PATROL_BORO_NAME_PBMN',\n",
    "           'STOP_LOCATION_PATROL_BORO_NAME_PBMS',\n",
    " 'STOP_LOCATION_PATROL_BORO_NAME_PBQN',\n",
    " 'STOP_LOCATION_PATROL_BORO_NAME_PBQS',\n",
    " 'STOP_LOCATION_PATROL_BORO_NAME_PBSI',\n",
    "\n",
    "'DAY2_Friday',\n",
    " 'DAY2_Monday',\n",
    " 'DAY2_Saturday',\n",
    " 'DAY2_Sunday',\n",
    " 'DAY2_Thursday',\n",
    " 'DAY2_Tuesday',\n",
    "           \n",
    "\n",
    "           \n",
    " ]\n",
    "\n",
    "\n",
    "# 'DAY2_Wednesday',\n",
    "\n",
    "# 'stop_time_period_midday',\n",
    "# 'stop_time_period_late_night',\n",
    "#  'stop_time_period_early_am',\n",
    "#  'stop_time_period_morning',\n",
    "\n",
    "#  'stop_time_period_afternoon',\n",
    "#  'stop_time_period_evening',\n",
    "#  'stop_time_period_night',"
   ]
  },
  {
   "cell_type": "markdown",
   "metadata": {},
   "source": [
    "# PREDICT"
   ]
  },
  {
   "cell_type": "markdown",
   "metadata": {},
   "source": [
    "## Logistic Regression, Finding Optimized Features"
   ]
  },
  {
   "cell_type": "code",
   "execution_count": 5,
   "metadata": {},
   "outputs": [],
   "source": [
    "all_X = train[columns]\n",
    "all_y = train[\"SUSPECT_ARRESTED_FLAG\"]\n",
    "\n",
    "lr = LogisticRegression()\n",
    "# Recursive feature elimination with cross validation to find the optimized columns and accuracy scores for a\n",
    "# logistic regression.\n",
    "selector = RFECV(lr, cv=10)\n",
    "selector.fit(all_X, all_y)\n",
    "lr_optimized_columns = all_X.columns[selector.support_]"
   ]
  },
  {
   "cell_type": "code",
   "execution_count": 6,
   "metadata": {
    "scrolled": false
   },
   "outputs": [
    {
     "name": "stdout",
     "output_type": "stream",
     "text": [
      "Index(['OFFICER_EXPLAINED_STOP_FLAG', 'OFFICER_IN_UNIFORM_FLAG',\n",
      "       'ID_CARD_IDENTIFIES_OFFICER_FLAG', 'VERBAL_IDENTIFIES_OFFICER_FLAG',\n",
      "       'FRISKED_FLAG', 'SEARCHED_FLAG', 'OTHER_CONTRABAND_FLAG',\n",
      "       'BACKGROUND_VIOLENT_CRIME', 'BACKGROUND_SUSPECT_KNOWN_CARRY_WPN',\n",
      "       'SUSPECTS_ACTIONS_CASING_FLAG',\n",
      "       'SUSPECTS_ACTIONS_CONCEALED_POSSESSION_WEAPON_FLAG',\n",
      "       'SUSPECTS_ACTIONS_DRUG_TRANSACTIONS_FLAG',\n",
      "       'SUSPECTS_ACTIONS_IDENTIFY_CRIME_PATTERN_FLAG',\n",
      "       'SEARCH_BASIS_ADMISSION_FLAG', 'SEARCH_BASIS_HARD_OBJECT_FLAG',\n",
      "       'SEARCH_BASIS_INCIDENTAL_TO_ARREST_FLAG', 'SEARCH_BASIS_OTHER_FLAG',\n",
      "       'SEARCH_BASIS_OUTLINE_FLAG', 'weapon', 'endangerment', 'theft',\n",
      "       'property_damage', 'trespass', 'auto', 'sexual_assault', 'drugs',\n",
      "       'robbery', 'other', 'weapon_found', 'aggressive_force',\n",
      "       'demeanor_nervous', 'demeanor_antagonistic', 'demeanor_tired',\n",
      "       'demeanor_upset', 'demeanor_inebriated', 'demeanor_fled',\n",
      "       'appearance_bag', 'appearance_facial_hair', 'appearance_scars',\n",
      "       'appearance_braids', 'appearance_hat', 'appearance_tattoo',\n",
      "       'appearance_mask', 'appearance_piercing', 'appearance_unusual',\n",
      "       'appearance_menacing', 'appearance_bandana', 'appearance_wounds',\n",
      "       'STOP_WAS_INITIATED_Based on C/W on Scene', 'ISSUING_OFFICER_RANK_DT1',\n",
      "       'ISSUING_OFFICER_RANK_DT3', 'ISSUING_OFFICER_RANK_DTS',\n",
      "       'ISSUING_OFFICER_RANK_LSA', 'ISSUING_OFFICER_RANK_LT',\n",
      "       'ISSUING_OFFICER_RANK_SDS', 'ISSUING_OFFICER_RANK_SGT',\n",
      "       'ISSUING_OFFICER_RANK_SSA', 'SUPERVISING_OFFICER_RANK_CPT',\n",
      "       'SUPERVISING_OFFICER_RANK_LCD', 'SUPERVISING_OFFICER_RANK_LSA',\n",
      "       'SUPERVISING_OFFICER_RANK_POF', 'SUPERVISING_OFFICER_RANK_SDS',\n",
      "       'JURISDICTION_CODE_A', 'JURISDICTION_CODE_T',\n",
      "       'stop_duration_group_Brief', 'stop_duration_group_Short',\n",
      "       'stop_duration_group_Medium', 'stop_duration_group_Long',\n",
      "       'SUSPECT_BODY_BUILD_TYPE_MUSC', 'SUSPECT_BODY_BUILD_TYPE_THN',\n",
      "       'SUSPECT_BODY_BUILD_TYPE_unknown', 'SUSPECT_SEX_MALE',\n",
      "       'SUSPECT_RACE_DESCRIPTION_AMERICAN INDIAN/ALASKAN NATIVE',\n",
      "       'SUSPECT_RACE_DESCRIPTION_ASIAN / PACIFIC ISLANDER',\n",
      "       'SUSPECT_RACE_DESCRIPTION_BLACK HISPANIC',\n",
      "       'suspect_weight_group_very_light', 'suspect_weight_group_heavy',\n",
      "       'suspect_weight_group_very_heavy', 'suspect_age_group_child',\n",
      "       'suspect_age_group_teen', 'suspect_age_group_young_adult',\n",
      "       'suspect_age_group_middle_aged', 'suspect_age_group_senior',\n",
      "       'STOP_LOCATION_PATROL_BORO_NAME_PBBX',\n",
      "       'STOP_LOCATION_PATROL_BORO_NAME_PBMN',\n",
      "       'STOP_LOCATION_PATROL_BORO_NAME_PBMS',\n",
      "       'STOP_LOCATION_PATROL_BORO_NAME_PBQS',\n",
      "       'STOP_LOCATION_PATROL_BORO_NAME_PBSI', 'DAY2_Saturday'],\n",
      "      dtype='object')\n"
     ]
    },
    {
     "data": {
      "text/plain": [
       "89"
      ]
     },
     "execution_count": 6,
     "metadata": {},
     "output_type": "execute_result"
    }
   ],
   "source": [
    "print(lr_optimized_columns)\n",
    "len(lr_optimized_columns)"
   ]
  },
  {
   "cell_type": "markdown",
   "metadata": {},
   "source": [
    "## Testing accuracy on train dataframe"
   ]
  },
  {
   "cell_type": "code",
   "execution_count": 7,
   "metadata": {},
   "outputs": [
    {
     "name": "stdout",
     "output_type": "stream",
     "text": [
      "[0.87641607 0.90937178 0.91246138 0.89392379 0.88259526 0.88453608\n",
      " 0.87731959 0.87113402 0.86907216 0.87731959]\n"
     ]
    },
    {
     "data": {
      "text/plain": [
       "0.8854149723422553"
      ]
     },
     "execution_count": 7,
     "metadata": {},
     "output_type": "execute_result"
    }
   ],
   "source": [
    "all_X = train[lr_optimized_columns]\n",
    "all_y = train[\"SUSPECT_ARRESTED_FLAG\"]\n",
    "\n",
    "scores = cross_val_score(lr, all_X, all_y, cv=10)\n",
    "accuracy = scores.mean()\n",
    "print(scores)\n",
    "accuracy"
   ]
  },
  {
   "cell_type": "markdown",
   "metadata": {},
   "source": [
    "## Running the model"
   ]
  },
  {
   "cell_type": "code",
   "execution_count": 8,
   "metadata": {},
   "outputs": [],
   "source": [
    "lr = LogisticRegression()\n",
    "lr.fit(all_X, all_y)\n",
    "holdout_predictions = lr.predict(holdout[lr_optimized_columns])"
   ]
  },
  {
   "cell_type": "markdown",
   "metadata": {},
   "source": [
    "## Accuracy scores and error metrics"
   ]
  },
  {
   "cell_type": "code",
   "execution_count": 9,
   "metadata": {
    "scrolled": true
   },
   "outputs": [
    {
     "name": "stdout",
     "output_type": "stream",
     "text": [
      "Accuracy Score: 89.0%\n",
      "False Negatives: 30.0%\n",
      "False Positives: 3.6%\n"
     ]
    }
   ],
   "source": [
    "def compute_error(actuals, predictions):\n",
    "    return metrics.accuracy_score(actuals, predictions)\n",
    "\n",
    "def compute_false_negatives(actuals, predictions):\n",
    "    df = pd.DataFrame({\"predictions\": predictions, \"actuals\": actuals})\n",
    "    return df[(df[\"actuals\"] == 1) & (df[\"predictions\"] == 0)].shape[0] / (df[(df[\"actuals\"] == 1)].shape[0])\n",
    "\n",
    "def compute_false_positives(actuals, predictions):\n",
    "    df = pd.DataFrame({\"predictions\": predictions, \"actuals\": actuals})\n",
    "    return df[(df[\"actuals\"] == 0) & (df[\"predictions\"] == 1)].shape[0] / (df[(df[\"actuals\"] == 0)].shape[0])\n",
    "\n",
    "\n",
    "acc = compute_error(actuals, holdout_predictions)\n",
    "fn = compute_false_negatives(actuals, holdout_predictions)\n",
    "fp = compute_false_positives(actuals, holdout_predictions)\n",
    "print(\"Accuracy Score: {0:.1%}\".format(acc))\n",
    "print(\"False Negatives: {0:.1%}\".format(fn))\n",
    "print(\"False Positives: {0:.1%}\".format(fp))"
   ]
  },
  {
   "cell_type": "markdown",
   "metadata": {},
   "source": [
    "# CONCLUSION\n",
    "Seeing ~89% accuracy on both the train and holdout datasets is highly encouraging. Although a false negative rate of 30% suggests room for improvement, a sub-4% false positive rate implies that few wrongful arrests (from the perspective of the NYPD) would be made.\n",
    "\n",
    "In order to boost accuracy and minimize the false negative and false positive rates, I had to remove the `stop_time_period` features from the selection from which optimized features were chosen."
   ]
  }
 ],
 "metadata": {
  "kernelspec": {
   "display_name": "Python 3",
   "language": "python",
   "name": "python3"
  },
  "language_info": {
   "codemirror_mode": {
    "name": "ipython",
    "version": 3
   },
   "file_extension": ".py",
   "mimetype": "text/x-python",
   "name": "python",
   "nbconvert_exporter": "python",
   "pygments_lexer": "ipython3",
   "version": "3.6.5"
  },
  "toc": {
   "base_numbering": 1,
   "nav_menu": {},
   "number_sections": true,
   "sideBar": true,
   "skip_h1_title": false,
   "title_cell": "Table of Contents",
   "title_sidebar": "Contents",
   "toc_cell": false,
   "toc_position": {},
   "toc_section_display": true,
   "toc_window_display": true
  }
 },
 "nbformat": 4,
 "nbformat_minor": 2
}
