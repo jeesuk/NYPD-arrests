{
 "cells": [
  {
   "cell_type": "code",
   "execution_count": 1,
   "metadata": {},
   "outputs": [],
   "source": [
    "import pandas as pd\n",
    "\n",
    "from sklearn.ensemble import RandomForestClassifier\n",
    "from sklearn.model_selection import GridSearchCV\n",
    "from sklearn import metrics\n",
    "\n",
    "import pickle\n",
    "import warnings\n",
    "warnings.filterwarnings('ignore')\n",
    "\n",
    "pd.set_option('display.max_rows', 5000)\n",
    "pd.set_option('display.max_columns', 200)"
   ]
  },
  {
   "cell_type": "code",
   "execution_count": 2,
   "metadata": {},
   "outputs": [],
   "source": [
    "with open('../data/NYPD_EDA.pkl', 'rb') as f:\n",
    "    data = pickle.load(f)"
   ]
  },
  {
   "cell_type": "markdown",
   "metadata": {},
   "source": [
    "# TRAIN AND HOLDOUT DATAFRAMES"
   ]
  },
  {
   "cell_type": "code",
   "execution_count": 3,
   "metadata": {},
   "outputs": [],
   "source": [
    "cutoff = round(len(data)*9/10, 0)\n",
    "\n",
    "train = data.loc[:cutoff]\n",
    "holdout = data.loc[cutoff:]\n",
    "\n",
    "# Storing target variable from holdout dataframe so we can compare it\n",
    "actuals = holdout.SUSPECT_ARRESTED_FLAG\n",
    "\n",
    "# Drop SUSPECT_ARRESTED_FLAG column from holdout dataframe so that we can predict its values.\n",
    "holdout.drop(['SUSPECT_ARRESTED_FLAG'], axis = 1, inplace = True)"
   ]
  },
  {
   "cell_type": "markdown",
   "metadata": {},
   "source": [
    "# FEATURE SELECTION"
   ]
  },
  {
   "cell_type": "code",
   "execution_count": 4,
   "metadata": {},
   "outputs": [],
   "source": [
    "columns = ['OFFICER_EXPLAINED_STOP_FLAG', 'OFFICER_IN_UNIFORM_FLAG', 'ID_CARD_IDENTIFIES_OFFICER_FLAG',\n",
    " 'SHIELD_IDENTIFIES_OFFICER_FLAG', 'VERBAL_IDENTIFIES_OFFICER_FLAG', 'FRISKED_FLAG', 'SEARCHED_FLAG', 'OTHER_CONTRABAND_FLAG',\n",
    " 'BACKGROUND_VIOLENT_CRIME', 'BACKGROUND_SUSPECT_KNOWN_CARRY_WPN', 'SUSPECTS_ACTIONS_CASING_FLAG',\n",
    " 'SUSPECTS_ACTIONS_CONCEALED_POSSESSION_WEAPON_FLAG','SUSPECTS_ACTIONS_DRUG_TRANSACTIONS_FLAG',\n",
    " 'SUSPECTS_ACTIONS_IDENTIFY_CRIME_PATTERN_FLAG', 'SUSPECTS_ACTIONS_LOOKOUT_FLAG','SUSPECTS_ACTIONS_PROXIMITY_TO_SCENE_FLAG',\n",
    " 'SEARCH_BASIS_ADMISSION_FLAG','SEARCH_BASIS_HARD_OBJECT_FLAG', 'SEARCH_BASIS_INCIDENTAL_TO_ARREST_FLAG',\n",
    " 'SEARCH_BASIS_OTHER_FLAG', 'SEARCH_BASIS_OUTLINE_FLAG', 'weapon', 'endangerment', 'physical_harm', 'theft', 'property_damage',\n",
    " 'trespass', 'auto', 'sexual_assault', 'drugs', 'robbery', 'other', 'prostitution', 'weapon_found', 'aggressive_force',\n",
    "'demeanor_nervous', 'demeanor_antagonistic', 'demeanor_surprised','demeanor_other', 'demeanor_tired', 'demeanor_upset',\n",
    "'demeanor_inebriated', 'demeanor_unstable', 'demeanor_fled',\n",
    "'appearance_bag','appearance_facial_hair', 'appearance_scars', 'appearance_braids', 'appearance_hoodie', 'appearance_hat',\n",
    "           'appearance_du_rag', \n",
    "           'appearance_tattoo', \n",
    "           'appearance_mask', 'appearance_piercing', \n",
    "           'appearance_unusual',\n",
    " 'appearance_menacing', 'appearance_bandana', 'appearance_wounds',\n",
    "\n",
    "'STOP_WAS_INITIATED_Based on C/W on Scene',\n",
    "'ISSUING_OFFICER_RANK_CPT', 'ISSUING_OFFICER_RANK_DI', 'ISSUING_OFFICER_RANK_DT1', 'ISSUING_OFFICER_RANK_DT2',\n",
    " 'ISSUING_OFFICER_RANK_DT3', 'ISSUING_OFFICER_RANK_DTS', 'ISSUING_OFFICER_RANK_INS', 'ISSUING_OFFICER_RANK_LSA',\n",
    " 'ISSUING_OFFICER_RANK_LT', 'ISSUING_OFFICER_RANK_POF', 'ISSUING_OFFICER_RANK_POM', 'ISSUING_OFFICER_RANK_SDS',\n",
    " 'ISSUING_OFFICER_RANK_SGT', 'ISSUING_OFFICER_RANK_SSA', 'SUPERVISING_OFFICER_RANK_CPT', 'SUPERVISING_OFFICER_RANK_DI',\n",
    " 'SUPERVISING_OFFICER_RANK_LCD', 'SUPERVISING_OFFICER_RANK_LSA', 'SUPERVISING_OFFICER_RANK_LT', 'SUPERVISING_OFFICER_RANK_POF',\n",
    " 'SUPERVISING_OFFICER_RANK_POM', 'SUPERVISING_OFFICER_RANK_SDS', 'SUPERVISING_OFFICER_RANK_SGT',\n",
    " 'SUPERVISING_OFFICER_RANK_SSA', 'JURISDICTION_CODE_(null)', 'JURISDICTION_CODE_A', 'JURISDICTION_CODE_H',\n",
    " 'JURISDICTION_CODE_P', 'JURISDICTION_CODE_T','stop_duration_group_Brief', 'stop_duration_group_Short',\n",
    " 'stop_duration_group_Medium', 'stop_duration_group_Long', 'SUSPECT_BODY_BUILD_TYPE_HEA', 'SUSPECT_BODY_BUILD_TYPE_MED',\n",
    " 'SUSPECT_BODY_BUILD_TYPE_MUSC', 'SUSPECT_BODY_BUILD_TYPE_THN', 'SUSPECT_BODY_BUILD_TYPE_unknown', 'SUSPECT_SEX_MALE',\n",
    " 'SUSPECT_RACE_DESCRIPTION_AMERICAN INDIAN/ALASKAN NATIVE', 'SUSPECT_RACE_DESCRIPTION_ASIAN / PACIFIC ISLANDER',\n",
    " 'SUSPECT_RACE_DESCRIPTION_BLACK', 'SUSPECT_RACE_DESCRIPTION_BLACK HISPANIC', 'SUSPECT_RACE_DESCRIPTION_WHITE',\n",
    " 'SUSPECT_RACE_DESCRIPTION_WHITE HISPANIC', 'suspect_height_group_very_short', 'suspect_height_group_short',\n",
    " 'suspect_height_group_average', 'suspect_height_group_tall', 'suspect_weight_group_very_light', 'suspect_weight_group_light',\n",
    " 'suspect_weight_group_average', 'suspect_weight_group_heavy', 'suspect_weight_group_very_heavy', 'suspect_age_group_child',\n",
    " 'suspect_age_group_teen', 'suspect_age_group_young_adult', 'suspect_age_group_adult', 'suspect_age_group_middle_aged',\n",
    " 'suspect_age_group_older', 'suspect_age_group_senior',\n",
    " \n",
    " 'STOP_LOCATION_PATROL_BORO_NAME_PBBN',\n",
    " 'STOP_LOCATION_PATROL_BORO_NAME_PBBS',\n",
    " 'STOP_LOCATION_PATROL_BORO_NAME_PBBX',\n",
    " 'STOP_LOCATION_PATROL_BORO_NAME_PBMN',\n",
    "           'STOP_LOCATION_PATROL_BORO_NAME_PBMS',\n",
    " 'STOP_LOCATION_PATROL_BORO_NAME_PBQN',\n",
    " 'STOP_LOCATION_PATROL_BORO_NAME_PBQS',\n",
    " 'STOP_LOCATION_PATROL_BORO_NAME_PBSI',\n",
    "\n",
    "'DAY2_Friday',\n",
    " 'DAY2_Monday',\n",
    " 'DAY2_Saturday',\n",
    " 'DAY2_Sunday',\n",
    " 'DAY2_Thursday',\n",
    " 'DAY2_Tuesday',\n",
    "           \n",
    "'stop_time_period_late_night',\n",
    " 'stop_time_period_early_am',\n",
    " 'stop_time_period_morning',\n",
    "\n",
    " 'stop_time_period_afternoon',\n",
    " 'stop_time_period_evening',\n",
    " 'stop_time_period_night',\n",
    "           \n",
    " ]\n",
    "\n",
    "\n",
    "# 'DAY2_Wednesday',\n",
    "\n",
    "# 'stop_time_period_midday',\n"
   ]
  },
  {
   "cell_type": "markdown",
   "metadata": {},
   "source": [
    "# PREDICT"
   ]
  },
  {
   "cell_type": "markdown",
   "metadata": {},
   "source": [
    "## Random forest"
   ]
  },
  {
   "cell_type": "code",
   "execution_count": 5,
   "metadata": {},
   "outputs": [
    {
     "data": {
      "text/plain": [
       "RandomForestClassifier(bootstrap=True, class_weight=None, criterion='entropy',\n",
       "                       max_depth=10, max_features='sqrt', max_leaf_nodes=None,\n",
       "                       min_impurity_decrease=0.0, min_impurity_split=None,\n",
       "                       min_samples_leaf=1, min_samples_split=3,\n",
       "                       min_weight_fraction_leaf=0.0, n_estimators=10,\n",
       "                       n_jobs=None, oob_score=False, random_state=1, verbose=0,\n",
       "                       warm_start=False)"
      ]
     },
     "execution_count": 5,
     "metadata": {},
     "output_type": "execute_result"
    }
   ],
   "source": [
    "all_X = train[columns]\n",
    "all_y = train[\"SUSPECT_ARRESTED_FLAG\"]\n",
    "\n",
    "# hyperparameters = {\"criterion\": [\"entropy\", \"gini\"],\n",
    "#                    \"max_depth\": [5, 10],\n",
    "#                    \"max_features\": [\"log2\", \"sqrt\"],\n",
    "#                    \"min_samples_leaf\": [1, 5],\n",
    "#                    \"min_samples_split\": [3, 5],\n",
    "#                    \"n_estimators\": [6, 9]\n",
    "# }\n",
    "\n",
    "# clf = RandomForestClassifier(random_state=1)\n",
    "# grid = GridSearchCV(clf, param_grid=hyperparameters, cv=10)\n",
    "\n",
    "# Optimized paramters from using a GridSearch.\n",
    "best_rf = RandomForestClassifier(random_state=1, criterion='entropy', max_depth=10, max_features='sqrt', min_samples_leaf=1,\n",
    "                             min_samples_split=3, n_estimators=10)\n",
    "best_rf.fit(all_X, all_y)"
   ]
  },
  {
   "cell_type": "markdown",
   "metadata": {},
   "source": [
    "## Running the model"
   ]
  },
  {
   "cell_type": "code",
   "execution_count": 6,
   "metadata": {},
   "outputs": [],
   "source": [
    "holdout_predictions = best_rf.predict(holdout[columns])"
   ]
  },
  {
   "cell_type": "markdown",
   "metadata": {},
   "source": [
    "## Accuracy scores and error metrics"
   ]
  },
  {
   "cell_type": "code",
   "execution_count": 7,
   "metadata": {},
   "outputs": [
    {
     "name": "stdout",
     "output_type": "stream",
     "text": [
      "Accuracy Score: 89.8%\n"
     ]
    }
   ],
   "source": [
    "def compute_error(actuals, predictions):\n",
    "    return metrics.accuracy_score(actuals, predictions)\n",
    "\n",
    "# def compute_false_negatives(actuals, predictions):\n",
    "#     df = pd.DataFrame({\"predictions\": predictions, \"actuals\": actuals})\n",
    "#     return df[(df[\"actuals\"] == 1) & (df[\"predictions\"] == 0)].shape[0] / (df[(df[\"actuals\"] == 1)].shape[0])\n",
    "\n",
    "# def compute_false_positives(actuals, predictions):\n",
    "#     df = pd.DataFrame({\"predictions\": predictions, \"actuals\": actuals})\n",
    "#     return df[(df[\"actuals\"] == 0) & (df[\"predictions\"] == 1)].shape[0] / (df[(df[\"actuals\"] == 0)].shape[0])\n",
    "\n",
    "\n",
    "acc = compute_error(actuals, holdout_predictions)\n",
    "# fn = compute_false_negatives(actuals, holdout_predictions)\n",
    "# fp = compute_false_positives(actuals, holdout_predictions)\n",
    "print(\"Accuracy Score: {0:.1%}\".format(acc))\n",
    "# print(\"False Negatives: {0:.1%}\".format(fn))\n",
    "# print(\"False Positives: {0:.1%}\".format(fp))"
   ]
  },
  {
   "cell_type": "markdown",
   "metadata": {},
   "source": [
    "# CONCLUSION\n",
    "The random forest model yields ~90% accuracy, a slight improvement from the logistic regression model.\n",
    "\n",
    "As with the K-nearest neighbors model, the inclusion of the `stop_time_period` feature improves accuracy."
   ]
  }
 ],
 "metadata": {
  "kernelspec": {
   "display_name": "Python 3",
   "language": "python",
   "name": "python3"
  },
  "language_info": {
   "codemirror_mode": {
    "name": "ipython",
    "version": 3
   },
   "file_extension": ".py",
   "mimetype": "text/x-python",
   "name": "python",
   "nbconvert_exporter": "python",
   "pygments_lexer": "ipython3",
   "version": "3.7.3"
  },
  "toc": {
   "base_numbering": 1,
   "nav_menu": {},
   "number_sections": true,
   "sideBar": true,
   "skip_h1_title": false,
   "title_cell": "Table of Contents",
   "title_sidebar": "Contents",
   "toc_cell": false,
   "toc_position": {},
   "toc_section_display": true,
   "toc_window_display": true
  }
 },
 "nbformat": 4,
 "nbformat_minor": 2
}
